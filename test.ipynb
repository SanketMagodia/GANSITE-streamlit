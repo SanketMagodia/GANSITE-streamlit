{
 "cells": [
  {
   "cell_type": "code",
   "execution_count": 3,
   "metadata": {},
   "outputs": [],
   "source": [
    "from PIL import Image\n",
    "import numpy as np\n",
    "import imageio\n",
    "\n",
    "# Load pattern images\n",
    "pattern1 = np.array(Image.open(\"generations/gen1.jpg\"))\n",
    "pattern2 = np.array(Image.open(\"generations/gen2.jpg\"))\n",
    "\n",
    "# Define the number of frames for each transition\n",
    "transition_frames = 20  # Adjust as needed\n",
    "\n",
    "# Create frames for the animation by blending patterns over time\n",
    "frames = []\n",
    "for i in range(transition_frames):\n",
    "    # Transition from pattern 1 to pattern 2\n",
    "    alpha = i / (transition_frames - 1)  # Interpolation factor\n",
    "    blended_pattern = (1 - alpha) * pattern1 + alpha * pattern2\n",
    "    blended_pattern_uint8 = np.clip(blended_pattern, 0, 255).astype(np.uint8)\n",
    "    frames.append(blended_pattern_uint8)\n",
    "\n",
    "for i in range(transition_frames):\n",
    "    # Transition from pattern 2 to pattern 1\n",
    "    alpha = i / (transition_frames - 1)  # Interpolation factor\n",
    "    blended_pattern = (1 - alpha) * pattern2 + alpha * pattern1\n",
    "    blended_pattern_uint8 = np.clip(blended_pattern, 0, 255).astype(np.uint8)\n",
    "    frames.append(blended_pattern_uint8)\n",
    "\n",
    "# Save the frames as a GIF\n",
    "imageio.mimsave(\"transition_patterns.gif\", frames, duration=0.1)  # Adjust duration as needed\n"
   ]
  },
  {
   "cell_type": "code",
   "execution_count": null,
   "metadata": {},
   "outputs": [],
   "source": []
  }
 ],
 "metadata": {
  "kernelspec": {
   "display_name": "Python 3",
   "language": "python",
   "name": "python3"
  },
  "language_info": {
   "codemirror_mode": {
    "name": "ipython",
    "version": 3
   },
   "file_extension": ".py",
   "mimetype": "text/x-python",
   "name": "python",
   "nbconvert_exporter": "python",
   "pygments_lexer": "ipython3",
   "version": "3.10.11"
  }
 },
 "nbformat": 4,
 "nbformat_minor": 2
}
